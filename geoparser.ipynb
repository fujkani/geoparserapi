{
 "cells": [
  {
   "cell_type": "markdown",
   "source": [
    "# GeoParser NLP\n",
    "\n",
    "A python Jupiter Notebook text geoparser to showcase Natural Language Processing (Spacy) capabilities in \n",
    "Named Entity Recognition (NER) as well as some geo packages for geocoding and map display.\n",
    "\n",
    "GeoParser takes a text as input and uses Spacy NER capabilities using a Wiki trained pipeline to identify potential geo-locations \n",
    "in the text. It then performs a geocoding against those locations to retrieve map coordinates which are then plotted on a \n",
    "map for display."
   ],
   "metadata": {}
  },
  {
   "cell_type": "code",
   "execution_count": null,
   "source": [
    "# Import NLP package\n",
    "import spacy\n",
    "from spacy import displacy "
   ],
   "outputs": [],
   "metadata": {}
  },
  {
   "cell_type": "code",
   "execution_count": null,
   "source": [
    "# Import pandas\n",
    "import pandas as pd"
   ],
   "outputs": [],
   "metadata": {}
  },
  {
   "cell_type": "code",
   "execution_count": null,
   "source": [
    "# import geocoder \n",
    "import geopy \n",
    "import matplotlib.pyplot as plt\n",
    "from geopy.extra.rate_limiter import RateLimiter"
   ],
   "outputs": [],
   "metadata": {}
  },
  {
   "cell_type": "code",
   "execution_count": null,
   "source": [
    "# import python library wrapper for Leaflet.js\n",
    "import folium\n",
    "from folium.plugins import FastMarkerCluster"
   ],
   "outputs": [],
   "metadata": {}
  },
  {
   "cell_type": "markdown",
   "source": [
    "Load the trained model containing the NER pipeline"
   ],
   "metadata": {}
  },
  {
   "cell_type": "code",
   "execution_count": null,
   "source": [
    "nlp = spacy.load('xx_ent_wiki_sm')"
   ],
   "outputs": [],
   "metadata": {}
  },
  {
   "cell_type": "code",
   "execution_count": null,
   "source": [
    "# Show available pipelines\n",
    "nlp.pipe_names"
   ],
   "outputs": [],
   "metadata": {}
  },
  {
   "cell_type": "markdown",
   "source": [
    "✨ For simplicity sample text is specified directly in this notebook. You may have multiple text files in a local directory or read from a web resource"
   ],
   "metadata": {}
  },
  {
   "cell_type": "code",
   "execution_count": null,
   "source": [
    "# Load the doc with NER annotations\n",
    "doc = nlp(\"\"\"\\Calabria, known in antiquity as Bruttium (US: /ˈbrʊtiəm, ˈbrʌt-/),[7][8] is an administrative region of Italy. Located in the south of the Italian Peninsula, separated from Sicily by the Strait of Messina. As of 2019, the region has a population of around 2,000,000 people.\n",
    "\n",
    "The capital city of Calabria is Catanzaro. The Regional Council of Calabria is based at the Palazzo Campanella in the city of Reggio Calabria. The region is bordered to the north by the Basilicata Region, to the west by the Tyrrhenian Sea, and to the east by the Ionian Sea. The Strait of Messina separates it from the island of Sicily. The region covers 15,080 km2 (5,822 sq mi) and has a population of just under 2 million. The demonym of Calabria is calabrese in Italian and Calabrian in English.\n",
    "\n",
    "In antiquity the name Calabria referred, not as in modern times to the toe, but to the heel tip of Italy, from Tarentum southwards,[9] a region nowadays known as Salento.\n",
    "\n",
    "The region is generally known as the \"toe\" of the \"boot\" of Italy and is a long and narrow peninsula which stretches from north to south for 248 km (154 mi), with a maximum width of 110 km (68 mi). Some 42% of Calabria's area, corresponding to 15,080 km2, is mountainous, 49% is hilly, while plains occupy only 9% of the region's territory. It is surrounded by the Ionian and Tyrrhenian seas. It is separated from Sicily by the Strait of Messina, where the narrowest point between Capo Peloro in Sicily and Punta Pezzo in Calabria is only 3.2 km (2 mi).\n",
    "\n",
    "Three mountain ranges are present: Pollino, La Sila and Aspromonte, each with its own flora and fauna. The Pollino Mountains in the north of the region are rugged and form a natural barrier separating Calabria from the rest of Italy. Parts of the area are heavily wooded, while others are vast, wind-swept plateaus with little vegetation. These mountains are home to a rare Bosnian Pine variety and are included in the Pollino National Park, which is the largest national park in Italy, covering 1,925.65 square kilometres.\n",
    "\n",
    "La Sila, which has been referred to as the \"Great Wood of Italy\",[16][17][18] is a vast mountainous plateau about 1,200 metres (3,900 feet) above sea level and stretches for nearly 2,000 square kilometres (770 square miles) along the central part of Calabria. The highest point is Botte Donato, which reaches 1,928 metres (6,325 feet). The area boasts numerous lakes and dense coniferous forests. La Sila also has some of the tallest trees in Italy which are called the \"Giants of the Sila\" and can reach up to 40 metres (130 feet) in height.[19][20][21] The Sila National Park is also known to have the purest air in Europe.[22]\n",
    "\n",
    "The Aspromonte massif forms the southernmost tip of the Italian peninsula bordered by the sea on three sides. This unique mountainous structure reaches its highest point at Montalto, at 1,995 metres (6,545 feet), and is full of wide, man-made terraces that slope down towards the sea.\n",
    "\n",
    "Most of the lower terrain in Calabria has been agricultural for centuries, and exhibits indigenous scrubland as well as introduced plants such as the prickly pear cactus. The lowest slopes are rich in vineyards and orchards of citrus fruit, including the Diamante citron. Further up, olives and chestnut trees appear while in the higher regions there are often dense forests of oak, pine, beech and fir trees\n",
    "\n",
    "The region is generally known as the \"toe\" of the \"boot\" of Italy and is a long and narrow peninsula which stretches from north to south for 248 km (154 mi), with a maximum width of 110 km (68 mi). Some 42% of Calabria's area, corresponding to 15,080 km2, is mountainous, 49% is hilly, while plains occupy only 9% of the region's territory. It is surrounded by the Ionian and Tyrrhenian seas. It is separated from Sicily by the Strait of Messina, where the narrowest point between Capo Peloro in Sicily and Punta Pezzo in Calabria is only 3.2 km (2 mi).\n",
    "\n",
    "Three mountain ranges are present: Pollino, La Sila and Aspromonte, each with its own flora and fauna. The Pollino Mountains in the north of the region are rugged and form a natural barrier separating Calabria from the rest of Italy. Parts of the area are heavily wooded, while others are vast, wind-swept plateaus with little vegetation. These mountains are home to a rare Bosnian Pine variety and are included in the Pollino National Park, which is the largest national park in Italy, covering 1,925.65 square kilometres.\n",
    "\n",
    "La Sila, which has been referred to as the \"Great Wood of Italy\",[16][17][18] is a vast mountainous plateau about 1,200 metres (3,900 feet) above sea level and stretches for nearly 2,000 square kilometres (770 square miles) along the central part of Calabria. The highest point is Botte Donato, which reaches 1,928 metres (6,325 feet). The area boasts numerous lakes and dense coniferous forests. La Sila also has some of the tallest trees in Italy which are called the \"Giants of the Sila\" and can reach up to 40 metres (130 feet) in height.[19][20][21] The Sila National Park is also known to have the purest air in Europe.[22]\n",
    "\n",
    "The Aspromonte massif forms the southernmost tip of the Italian peninsula bordered by the sea on three sides. This unique mountainous structure reaches its highest point at Montalto, at 1,995 metres (6,545 feet), and is full of wide, man-made terraces that slope down towards the sea.\n",
    "\n",
    "Most of the lower terrain in Calabria has been agricultural for centuries, and exhibits indigenous scrubland as well as introduced plants such as the prickly pear cactus. The lowest slopes are rich in vineyards and orchards of citrus fruit, including the Diamante citron. Further up, olives and chestnut trees appear while in the higher regions there are often dense forests of oak, pine, beech and fir trees.\"\"\")"
   ],
   "outputs": [],
   "metadata": {}
  },
  {
   "cell_type": "code",
   "execution_count": null,
   "source": [
    "# show what named entities were captured and labelling applied\n",
    "displacy.render(doc, style=\"ent\")"
   ],
   "outputs": [],
   "metadata": {}
  },
  {
   "cell_type": "code",
   "execution_count": null,
   "source": [
    "# capture in an array only NERs labeled as 'LOC'\n",
    "locations = []\n",
    "locations.extend([[ent.text, ent.start, ent.end] for ent in doc.ents if ent.label_ in ['LOC']])"
   ],
   "outputs": [],
   "metadata": {}
  },
  {
   "cell_type": "code",
   "execution_count": null,
   "source": [
    "# populate a panda dataframe with above location info\n",
    "df = pd.DataFrame(locations, columns=['Location', 'start','end'])"
   ],
   "outputs": [],
   "metadata": {}
  },
  {
   "cell_type": "code",
   "execution_count": null,
   "source": [
    "df"
   ],
   "outputs": [],
   "metadata": {}
  },
  {
   "cell_type": "code",
   "execution_count": null,
   "source": [
    "# remove any duplicates from locations and sort\n",
    "df.drop_duplicates(subset='Location', keep='first', inplace=True)\n",
    "df.sort_values(\"Location\", inplace = True)"
   ],
   "outputs": [],
   "metadata": {}
  },
  {
   "cell_type": "code",
   "execution_count": null,
   "source": [
    "df"
   ],
   "outputs": [],
   "metadata": {}
  },
  {
   "cell_type": "code",
   "execution_count": null,
   "source": [
    "# declare the geolocator using the OpenStreetMap \n",
    "locator = geopy.geocoders.Nominatim(user_agent=\"geoparser\")\n",
    "geocode = RateLimiter(locator.geocode, min_delay_seconds=1)"
   ],
   "outputs": [],
   "metadata": {}
  },
  {
   "cell_type": "code",
   "execution_count": null,
   "source": [
    "# Geocode locations, assigning to new field\n",
    "df[\"address\"] = df[\"Location\"].apply(geocode)"
   ],
   "outputs": [],
   "metadata": {}
  },
  {
   "cell_type": "code",
   "execution_count": null,
   "source": [
    "df"
   ],
   "outputs": [],
   "metadata": {}
  },
  {
   "cell_type": "code",
   "execution_count": null,
   "source": [
    "# Extract Lat/Lon when available from address field using lambda expressions\n",
    "df['coordinates'] = df['address'].apply(lambda loc: tuple(loc.point) if loc else None)\n",
    "df[['latitude', 'longitude', 'altitude']] = pd.DataFrame(df['coordinates'].tolist(), index=df.index)\n",
    "df.latitude.isnull().sum()\n",
    "df = df[pd.notnull(df[\"latitude\"])]"
   ],
   "outputs": [],
   "metadata": {}
  },
  {
   "cell_type": "code",
   "execution_count": null,
   "source": [
    "# Should now have lat/lon/alt available\n",
    "df"
   ],
   "outputs": [],
   "metadata": {}
  },
  {
   "cell_type": "code",
   "execution_count": null,
   "source": [
    "# declare the folium map (folium is a python wrapper to LeafletJS)\n",
    "folium_map = folium.Map(location=[43,11], zoom_start=5, tiles='CartoDB dark_matter')"
   ],
   "outputs": [],
   "metadata": {
    "scrolled": true
   }
  },
  {
   "cell_type": "code",
   "execution_count": null,
   "source": [
    "# declare a callback function to handle popups\n",
    "callback = ('function (row) {' \n",
    "                'var marker = L.marker(new L.LatLng(row[0], row[1]), {color: \"red\"});'\n",
    "                'var icon = L.AwesomeMarkers.icon({'\n",
    "                \"icon: 'info-sign',\"\n",
    "                \"iconColor: 'white',\"\n",
    "                \"markerColor: 'green',\"\n",
    "                \"prefix: 'glyphicon',\"\n",
    "                \"extraClasses: 'fa-rotate-0'\"\n",
    "                    '});'\n",
    "                'marker.setIcon(icon);'\n",
    "                \"var popup = L.popup({maxWidth: '300'});\"\n",
    "                \"const display_text = {text: row[2]};\"\n",
    "                \"var mytext = $(`<div id='mytext' class='display_text' style='width: 100.0%; height: 100.0%;'> ${display_text.text}</div>`)[0];\"\n",
    "                \"popup.setContent(mytext);\"\n",
    "                \"marker.bindPopup(popup);\"\n",
    "                'return marker};')"
   ],
   "outputs": [],
   "metadata": {}
  },
  {
   "cell_type": "code",
   "execution_count": 22,
   "source": [
    "# Now add a FastMarkerCluster to the map specifying lat/lon and callback function\n",
    "folium_map.add_child(FastMarkerCluster(df[['latitude', 'longitude','Location']].values.tolist(), callback=callback))"
   ],
   "outputs": [
    {
     "output_type": "execute_result",
     "data": {
      "text/html": [
       "<div style=\"width:100%;\"><div style=\"position:relative;width:100%;height:0;padding-bottom:60%;\"><span style=\"color:#565656\">Make this Notebook Trusted to load map: File -> Trust Notebook</span><iframe src=\"about:blank\" style=\"position:absolute;width:100%;height:100%;left:0;top:0;border:none !important;\" data-html=%3C%21DOCTYPE%20html%3E%0A%3Chead%3E%20%20%20%20%0A%20%20%20%20%3Cmeta%20http-equiv%3D%22content-type%22%20content%3D%22text/html%3B%20charset%3DUTF-8%22%20/%3E%0A%20%20%20%20%0A%20%20%20%20%20%20%20%20%3Cscript%3E%0A%20%20%20%20%20%20%20%20%20%20%20%20L_NO_TOUCH%20%3D%20false%3B%0A%20%20%20%20%20%20%20%20%20%20%20%20L_DISABLE_3D%20%3D%20false%3B%0A%20%20%20%20%20%20%20%20%3C/script%3E%0A%20%20%20%20%0A%20%20%20%20%3Cstyle%3Ehtml%2C%20body%20%7Bwidth%3A%20100%25%3Bheight%3A%20100%25%3Bmargin%3A%200%3Bpadding%3A%200%3B%7D%3C/style%3E%0A%20%20%20%20%3Cstyle%3E%23map%20%7Bposition%3Aabsolute%3Btop%3A0%3Bbottom%3A0%3Bright%3A0%3Bleft%3A0%3B%7D%3C/style%3E%0A%20%20%20%20%3Cscript%20src%3D%22https%3A//cdn.jsdelivr.net/npm/leaflet%401.6.0/dist/leaflet.js%22%3E%3C/script%3E%0A%20%20%20%20%3Cscript%20src%3D%22https%3A//code.jquery.com/jquery-1.12.4.min.js%22%3E%3C/script%3E%0A%20%20%20%20%3Cscript%20src%3D%22https%3A//maxcdn.bootstrapcdn.com/bootstrap/3.2.0/js/bootstrap.min.js%22%3E%3C/script%3E%0A%20%20%20%20%3Cscript%20src%3D%22https%3A//cdnjs.cloudflare.com/ajax/libs/Leaflet.awesome-markers/2.0.2/leaflet.awesome-markers.js%22%3E%3C/script%3E%0A%20%20%20%20%3Clink%20rel%3D%22stylesheet%22%20href%3D%22https%3A//cdn.jsdelivr.net/npm/leaflet%401.6.0/dist/leaflet.css%22/%3E%0A%20%20%20%20%3Clink%20rel%3D%22stylesheet%22%20href%3D%22https%3A//maxcdn.bootstrapcdn.com/bootstrap/3.2.0/css/bootstrap.min.css%22/%3E%0A%20%20%20%20%3Clink%20rel%3D%22stylesheet%22%20href%3D%22https%3A//maxcdn.bootstrapcdn.com/bootstrap/3.2.0/css/bootstrap-theme.min.css%22/%3E%0A%20%20%20%20%3Clink%20rel%3D%22stylesheet%22%20href%3D%22https%3A//maxcdn.bootstrapcdn.com/font-awesome/4.6.3/css/font-awesome.min.css%22/%3E%0A%20%20%20%20%3Clink%20rel%3D%22stylesheet%22%20href%3D%22https%3A//cdnjs.cloudflare.com/ajax/libs/Leaflet.awesome-markers/2.0.2/leaflet.awesome-markers.css%22/%3E%0A%20%20%20%20%3Clink%20rel%3D%22stylesheet%22%20href%3D%22https%3A//cdn.jsdelivr.net/gh/python-visualization/folium/folium/templates/leaflet.awesome.rotate.min.css%22/%3E%0A%20%20%20%20%0A%20%20%20%20%20%20%20%20%20%20%20%20%3Cmeta%20name%3D%22viewport%22%20content%3D%22width%3Ddevice-width%2C%0A%20%20%20%20%20%20%20%20%20%20%20%20%20%20%20%20initial-scale%3D1.0%2C%20maximum-scale%3D1.0%2C%20user-scalable%3Dno%22%20/%3E%0A%20%20%20%20%20%20%20%20%20%20%20%20%3Cstyle%3E%0A%20%20%20%20%20%20%20%20%20%20%20%20%20%20%20%20%23map_3a17314e011b424b97965a35a0eb17af%20%7B%0A%20%20%20%20%20%20%20%20%20%20%20%20%20%20%20%20%20%20%20%20position%3A%20relative%3B%0A%20%20%20%20%20%20%20%20%20%20%20%20%20%20%20%20%20%20%20%20width%3A%20100.0%25%3B%0A%20%20%20%20%20%20%20%20%20%20%20%20%20%20%20%20%20%20%20%20height%3A%20100.0%25%3B%0A%20%20%20%20%20%20%20%20%20%20%20%20%20%20%20%20%20%20%20%20left%3A%200.0%25%3B%0A%20%20%20%20%20%20%20%20%20%20%20%20%20%20%20%20%20%20%20%20top%3A%200.0%25%3B%0A%20%20%20%20%20%20%20%20%20%20%20%20%20%20%20%20%7D%0A%20%20%20%20%20%20%20%20%20%20%20%20%3C/style%3E%0A%20%20%20%20%20%20%20%20%0A%20%20%20%20%3Cscript%20src%3D%22https%3A//cdnjs.cloudflare.com/ajax/libs/leaflet.markercluster/1.1.0/leaflet.markercluster.js%22%3E%3C/script%3E%0A%20%20%20%20%3Clink%20rel%3D%22stylesheet%22%20href%3D%22https%3A//cdnjs.cloudflare.com/ajax/libs/leaflet.markercluster/1.1.0/MarkerCluster.css%22/%3E%0A%20%20%20%20%3Clink%20rel%3D%22stylesheet%22%20href%3D%22https%3A//cdnjs.cloudflare.com/ajax/libs/leaflet.markercluster/1.1.0/MarkerCluster.Default.css%22/%3E%0A%3C/head%3E%0A%3Cbody%3E%20%20%20%20%0A%20%20%20%20%0A%20%20%20%20%20%20%20%20%20%20%20%20%3Cdiv%20class%3D%22folium-map%22%20id%3D%22map_3a17314e011b424b97965a35a0eb17af%22%20%3E%3C/div%3E%0A%20%20%20%20%20%20%20%20%0A%3C/body%3E%0A%3Cscript%3E%20%20%20%20%0A%20%20%20%20%0A%20%20%20%20%20%20%20%20%20%20%20%20var%20map_3a17314e011b424b97965a35a0eb17af%20%3D%20L.map%28%0A%20%20%20%20%20%20%20%20%20%20%20%20%20%20%20%20%22map_3a17314e011b424b97965a35a0eb17af%22%2C%0A%20%20%20%20%20%20%20%20%20%20%20%20%20%20%20%20%7B%0A%20%20%20%20%20%20%20%20%20%20%20%20%20%20%20%20%20%20%20%20center%3A%20%5B43.0%2C%2011.0%5D%2C%0A%20%20%20%20%20%20%20%20%20%20%20%20%20%20%20%20%20%20%20%20crs%3A%20L.CRS.EPSG3857%2C%0A%20%20%20%20%20%20%20%20%20%20%20%20%20%20%20%20%20%20%20%20zoom%3A%205%2C%0A%20%20%20%20%20%20%20%20%20%20%20%20%20%20%20%20%20%20%20%20zoomControl%3A%20true%2C%0A%20%20%20%20%20%20%20%20%20%20%20%20%20%20%20%20%20%20%20%20preferCanvas%3A%20false%2C%0A%20%20%20%20%20%20%20%20%20%20%20%20%20%20%20%20%7D%0A%20%20%20%20%20%20%20%20%20%20%20%20%29%3B%0A%0A%20%20%20%20%20%20%20%20%20%20%20%20%0A%0A%20%20%20%20%20%20%20%20%0A%20%20%20%20%0A%20%20%20%20%20%20%20%20%20%20%20%20var%20tile_layer_a8e4dee8fd0a4a22bc2db68039295901%20%3D%20L.tileLayer%28%0A%20%20%20%20%20%20%20%20%20%20%20%20%20%20%20%20%22https%3A//cartodb-basemaps-%7Bs%7D.global.ssl.fastly.net/dark_all/%7Bz%7D/%7Bx%7D/%7By%7D.png%22%2C%0A%20%20%20%20%20%20%20%20%20%20%20%20%20%20%20%20%7B%22attribution%22%3A%20%22%5Cu0026copy%3B%20%5Cu003ca%20href%3D%5C%22http%3A//www.openstreetmap.org/copyright%5C%22%5Cu003eOpenStreetMap%5Cu003c/a%5Cu003e%20contributors%20%5Cu0026copy%3B%20%5Cu003ca%20href%3D%5C%22http%3A//cartodb.com/attributions%5C%22%5Cu003eCartoDB%5Cu003c/a%5Cu003e%2C%20CartoDB%20%5Cu003ca%20href%20%3D%5C%22http%3A//cartodb.com/attributions%5C%22%5Cu003eattributions%5Cu003c/a%5Cu003e%22%2C%20%22detectRetina%22%3A%20false%2C%20%22maxNativeZoom%22%3A%2018%2C%20%22maxZoom%22%3A%2018%2C%20%22minZoom%22%3A%200%2C%20%22noWrap%22%3A%20false%2C%20%22opacity%22%3A%201%2C%20%22subdomains%22%3A%20%22abc%22%2C%20%22tms%22%3A%20false%7D%0A%20%20%20%20%20%20%20%20%20%20%20%20%29.addTo%28map_3a17314e011b424b97965a35a0eb17af%29%3B%0A%20%20%20%20%20%20%20%20%0A%20%20%20%20%0A%20%20%20%20%20%20%20%20%20%20%20%20var%20fast_marker_cluster_126773f1bde24b05b9b1ba98425ebd32%20%3D%20%28function%28%29%7B%0A%20%20%20%20%20%20%20%20%20%20%20%20%20%20%20%20var%20callback%20%3D%20function%20%28row%29%20%7Bvar%20marker%20%3D%20L.marker%28new%20L.LatLng%28row%5B0%5D%2C%20row%5B1%5D%29%2C%20%7Bcolor%3A%20%22red%22%7D%29%3Bvar%20icon%20%3D%20L.AwesomeMarkers.icon%28%7Bicon%3A%20%27info-sign%27%2CiconColor%3A%20%27white%27%2CmarkerColor%3A%20%27green%27%2Cprefix%3A%20%27glyphicon%27%2CextraClasses%3A%20%27fa-rotate-0%27%7D%29%3Bmarker.setIcon%28icon%29%3Bvar%20popup%20%3D%20L.popup%28%7BmaxWidth%3A%20%27300%27%7D%29%3Bconst%20display_text%20%3D%20%7Btext%3A%20row%5B2%5D%7D%3Bvar%20mytext%20%3D%20%24%28%60%3Cdiv%20id%3D%27mytext%27%20class%3D%27display_text%27%20style%3D%27width%3A%20100.0%25%3B%20height%3A%20100.0%25%3B%27%3E%20%24%7Bdisplay_text.text%7D%3C/div%3E%60%29%5B0%5D%3Bpopup.setContent%28mytext%29%3Bmarker.bindPopup%28popup%29%3Breturn%20marker%7D%3B%3B%0A%0A%20%20%20%20%20%20%20%20%20%20%20%20%20%20%20%20var%20data%20%3D%20%5B%5B43.7832717%2C%207.2440882%2C%20%22Aspromonte%22%5D%2C%20%5B-23.5585487%2C%20-46.6465544%2C%20%22Basilicata%20Region%22%5D%2C%20%5B39.0565974%2C%2016.5249864%2C%20%22Calabria%22%5D%2C%20%5B38.2678505%2C%2015.6530796%2C%20%22Capo%20Peloro%22%5D%2C%20%5B38.82996034999999%2C%2016.43155687627833%2C%20%22Catanzaro%22%5D%2C%20%5B39.6777304%2C%2015.8211279%2C%20%22Diamante%22%5D%2C%20%5B38.1713473%2C%2018.785449801828996%2C%20%22Ionian%20Sea%22%5D%2C%20%5B42.5040915%2C%2012.683856456076324%2C%20%22Italian%20Peninsula%22%5D%2C%20%5B42.6384261%2C%2012.674297%2C%20%22Italy%22%5D%2C%20%5B38.9953683%2C%2021.9877132%2C%20%22La%20Sila%22%5D%2C%20%5B43.4985445%2C%2011.6655028%2C%20%22Montalto%22%5D%2C%20%5B44.4109943%2C%208.932874171370615%2C%20%22Palazzo%20Campanella%22%5D%2C%20%5B43.6886836%2C%2011.8243847%2C%20%22Pollino%22%5D%2C%20%5B39.92185525%2C%2016.140591952206133%2C%20%22Pollino%20National%20Park%22%5D%2C%20%5B38.2312416%2C%2015.6355372%2C%20%22Punta%20Pezzo%22%5D%2C%20%5B38.1035389%2C%2015.6397556%2C%20%22Reggio%20Calabria%22%5D%2C%20%5B4.594612%2C%20-75.55556445605987%2C%20%22Salento%22%5D%2C%20%5B37.587794%2C%2014.155048%2C%20%22Sicily%22%5D%2C%20%5B38.9953683%2C%2021.9877132%2C%20%22Sila%22%5D%2C%20%5B39.26001065%2C%2016.50749122209725%2C%20%22Sila%20National%20Park%22%5D%2C%20%5B38.111037350000004%2C%2015.578644450383997%2C%20%22Strait%20of%20Messina%22%5D%2C%20%5B40.4712427%2C%2017.2432278%2C%20%22Tarentum%22%5D%2C%20%5B39.9999743%2C%2011.9999826%2C%20%22Tyrrhenian%20Sea%22%5D%2C%20%5B39.7837304%2C%20-100.445882%2C%20%22US%22%5D%5D%3B%0A%20%20%20%20%20%20%20%20%20%20%20%20%20%20%20%20var%20cluster%20%3D%20L.markerClusterGroup%28%7B%7D%29%3B%0A%0A%20%20%20%20%20%20%20%20%20%20%20%20%20%20%20%20for%20%28var%20i%20%3D%200%3B%20i%20%3C%20data.length%3B%20i%2B%2B%29%20%7B%0A%20%20%20%20%20%20%20%20%20%20%20%20%20%20%20%20%20%20%20%20var%20row%20%3D%20data%5Bi%5D%3B%0A%20%20%20%20%20%20%20%20%20%20%20%20%20%20%20%20%20%20%20%20var%20marker%20%3D%20callback%28row%29%3B%0A%20%20%20%20%20%20%20%20%20%20%20%20%20%20%20%20%20%20%20%20marker.addTo%28cluster%29%3B%0A%20%20%20%20%20%20%20%20%20%20%20%20%20%20%20%20%7D%0A%0A%20%20%20%20%20%20%20%20%20%20%20%20%20%20%20%20cluster.addTo%28map_3a17314e011b424b97965a35a0eb17af%29%3B%0A%20%20%20%20%20%20%20%20%20%20%20%20%20%20%20%20return%20cluster%3B%0A%20%20%20%20%20%20%20%20%20%20%20%20%7D%29%28%29%3B%0A%20%20%20%20%20%20%20%20%0A%20%20%20%20%0A%20%20%20%20%20%20%20%20%20%20%20%20var%20fast_marker_cluster_26392466b9a04d27901164ef40df032c%20%3D%20%28function%28%29%7B%0A%20%20%20%20%20%20%20%20%20%20%20%20%20%20%20%20var%20callback%20%3D%20function%20%28row%29%20%7Bvar%20marker%20%3D%20L.marker%28new%20L.LatLng%28row%5B0%5D%2C%20row%5B1%5D%29%2C%20%7Bcolor%3A%20%22red%22%7D%29%3Bvar%20icon%20%3D%20L.AwesomeMarkers.icon%28%7Bicon%3A%20%27info-sign%27%2CiconColor%3A%20%27white%27%2CmarkerColor%3A%20%27green%27%2Cprefix%3A%20%27glyphicon%27%2CextraClasses%3A%20%27fa-rotate-0%27%7D%29%3Bmarker.setIcon%28icon%29%3Bvar%20popup%20%3D%20L.popup%28%7BmaxWidth%3A%20%27300%27%7D%29%3Bconst%20display_text%20%3D%20%7Btext%3A%20row%5B2%5D%7D%3Bvar%20mytext%20%3D%20%24%28%60%3Cdiv%20id%3D%27mytext%27%20class%3D%27display_text%27%20style%3D%27width%3A%20100.0%25%3B%20height%3A%20100.0%25%3B%27%3E%20%24%7Bdisplay_text.text%7D%3C/div%3E%60%29%5B0%5D%3Bpopup.setContent%28mytext%29%3Bmarker.bindPopup%28popup%29%3Breturn%20marker%7D%3B%3B%0A%0A%20%20%20%20%20%20%20%20%20%20%20%20%20%20%20%20var%20data%20%3D%20%5B%5B43.7832717%2C%207.2440882%2C%20%22Aspromonte%22%5D%2C%20%5B-23.5585487%2C%20-46.6465544%2C%20%22Basilicata%20Region%22%5D%2C%20%5B39.0565974%2C%2016.5249864%2C%20%22Calabria%22%5D%2C%20%5B38.2678505%2C%2015.6530796%2C%20%22Capo%20Peloro%22%5D%2C%20%5B38.82996034999999%2C%2016.43155687627833%2C%20%22Catanzaro%22%5D%2C%20%5B39.6777304%2C%2015.8211279%2C%20%22Diamante%22%5D%2C%20%5B38.1713473%2C%2018.785449801828996%2C%20%22Ionian%20Sea%22%5D%2C%20%5B42.5040915%2C%2012.683856456076324%2C%20%22Italian%20Peninsula%22%5D%2C%20%5B42.6384261%2C%2012.674297%2C%20%22Italy%22%5D%2C%20%5B38.9953683%2C%2021.9877132%2C%20%22La%20Sila%22%5D%2C%20%5B43.4985445%2C%2011.6655028%2C%20%22Montalto%22%5D%2C%20%5B44.4109943%2C%208.932874171370615%2C%20%22Palazzo%20Campanella%22%5D%2C%20%5B43.6886836%2C%2011.8243847%2C%20%22Pollino%22%5D%2C%20%5B39.92185525%2C%2016.140591952206133%2C%20%22Pollino%20National%20Park%22%5D%2C%20%5B38.2312416%2C%2015.6355372%2C%20%22Punta%20Pezzo%22%5D%2C%20%5B38.1035389%2C%2015.6397556%2C%20%22Reggio%20Calabria%22%5D%2C%20%5B4.594612%2C%20-75.55556445605987%2C%20%22Salento%22%5D%2C%20%5B37.587794%2C%2014.155048%2C%20%22Sicily%22%5D%2C%20%5B38.9953683%2C%2021.9877132%2C%20%22Sila%22%5D%2C%20%5B39.26001065%2C%2016.50749122209725%2C%20%22Sila%20National%20Park%22%5D%2C%20%5B38.111037350000004%2C%2015.578644450383997%2C%20%22Strait%20of%20Messina%22%5D%2C%20%5B40.4712427%2C%2017.2432278%2C%20%22Tarentum%22%5D%2C%20%5B39.9999743%2C%2011.9999826%2C%20%22Tyrrhenian%20Sea%22%5D%2C%20%5B39.7837304%2C%20-100.445882%2C%20%22US%22%5D%5D%3B%0A%20%20%20%20%20%20%20%20%20%20%20%20%20%20%20%20var%20cluster%20%3D%20L.markerClusterGroup%28%7B%7D%29%3B%0A%0A%20%20%20%20%20%20%20%20%20%20%20%20%20%20%20%20for%20%28var%20i%20%3D%200%3B%20i%20%3C%20data.length%3B%20i%2B%2B%29%20%7B%0A%20%20%20%20%20%20%20%20%20%20%20%20%20%20%20%20%20%20%20%20var%20row%20%3D%20data%5Bi%5D%3B%0A%20%20%20%20%20%20%20%20%20%20%20%20%20%20%20%20%20%20%20%20var%20marker%20%3D%20callback%28row%29%3B%0A%20%20%20%20%20%20%20%20%20%20%20%20%20%20%20%20%20%20%20%20marker.addTo%28cluster%29%3B%0A%20%20%20%20%20%20%20%20%20%20%20%20%20%20%20%20%7D%0A%0A%20%20%20%20%20%20%20%20%20%20%20%20%20%20%20%20cluster.addTo%28map_3a17314e011b424b97965a35a0eb17af%29%3B%0A%20%20%20%20%20%20%20%20%20%20%20%20%20%20%20%20return%20cluster%3B%0A%20%20%20%20%20%20%20%20%20%20%20%20%7D%29%28%29%3B%0A%20%20%20%20%20%20%20%20%0A%3C/script%3E onload=\"this.contentDocument.open();this.contentDocument.write(    decodeURIComponent(this.getAttribute('data-html')));this.contentDocument.close();\" allowfullscreen webkitallowfullscreen mozallowfullscreen></iframe></div></div>"
      ],
      "text/plain": [
       "<folium.folium.Map at 0x7f8a3c95e910>"
      ]
     },
     "metadata": {},
     "execution_count": 22
    }
   ],
   "metadata": {}
  },
  {
   "cell_type": "code",
   "execution_count": null,
   "source": [],
   "outputs": [],
   "metadata": {}
  }
 ],
 "metadata": {
  "kernelspec": {
   "name": "python3",
   "display_name": "Python 3.8.5 64-bit ('.venv': venv)"
  },
  "language_info": {
   "codemirror_mode": {
    "name": "ipython",
    "version": 3
   },
   "file_extension": ".py",
   "mimetype": "text/x-python",
   "name": "python",
   "nbconvert_exporter": "python",
   "pygments_lexer": "ipython3",
   "version": "3.8.5"
  },
  "interpreter": {
   "hash": "eb8db5eef1b8aede59de36071d448b0fcdbf3de6c4b1adbe41e58f6090b5dc0e"
  }
 },
 "nbformat": 4,
 "nbformat_minor": 5
}